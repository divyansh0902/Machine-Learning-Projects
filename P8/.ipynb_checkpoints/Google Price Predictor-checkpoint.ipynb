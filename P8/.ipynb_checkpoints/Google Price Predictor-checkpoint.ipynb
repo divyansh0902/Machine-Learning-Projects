{
 "cells": [
  {
   "cell_type": "code",
   "execution_count": 1,
   "id": "ea3931fd",
   "metadata": {},
   "outputs": [],
   "source": [
    "import pandas as np\n",
    "import numpy as np\n",
    "import matplotlib.pyplot as plt\n",
    "import seaborn as sns\n",
    "from sklearn.model_selection import train_test_split\n",
    "from sklearn.ensemble import RandomForestRegressor\n",
    "from sklearn import metrics"
   ]
  },
  {
   "cell_type": "markdown",
   "id": "c27cc7c2",
   "metadata": {},
   "source": [
    "# data collection and processing"
   ]
  },
  {
   "cell_type": "code",
   "execution_count": 2,
   "id": "c909ba2f",
   "metadata": {},
   "outputs": [
    {
     "data": {
      "text/html": [
       "<div><div id=02956a74-d028-4079-add1-cca07b897792 style=\"display:none; background-color:#9D6CFF; color:white; width:200px; height:30px; padding-left:5px; border-radius:4px; flex-direction:row; justify-content:space-around; align-items:center;\" onmouseover=\"this.style.backgroundColor='#BA9BF8'\" onmouseout=\"this.style.backgroundColor='#9D6CFF'\" onclick=\"window.commands?.execute('create-mitosheet-from-dataframe-output');\">See Full Dataframe in Mito</div> <script> if (window.commands.hasCommand('create-mitosheet-from-dataframe-output')) document.getElementById('02956a74-d028-4079-add1-cca07b897792').style.display = 'flex' </script> <table border=\"1\" class=\"dataframe\">\n",
       "  <thead>\n",
       "    <tr style=\"text-align: right;\">\n",
       "      <th></th>\n",
       "      <th>Date</th>\n",
       "      <th>SPX</th>\n",
       "      <th>GLD</th>\n",
       "      <th>USO</th>\n",
       "      <th>SLV</th>\n",
       "      <th>EUR/USD</th>\n",
       "    </tr>\n",
       "  </thead>\n",
       "  <tbody>\n",
       "    <tr>\n",
       "      <th>0</th>\n",
       "      <td>1/2/2008</td>\n",
       "      <td>1447.160034</td>\n",
       "      <td>84.860001</td>\n",
       "      <td>78.470001</td>\n",
       "      <td>15.1800</td>\n",
       "      <td>1.471692</td>\n",
       "    </tr>\n",
       "    <tr>\n",
       "      <th>1</th>\n",
       "      <td>1/3/2008</td>\n",
       "      <td>1447.160034</td>\n",
       "      <td>85.570000</td>\n",
       "      <td>78.370003</td>\n",
       "      <td>15.2850</td>\n",
       "      <td>1.474491</td>\n",
       "    </tr>\n",
       "    <tr>\n",
       "      <th>2</th>\n",
       "      <td>1/4/2008</td>\n",
       "      <td>1411.630005</td>\n",
       "      <td>85.129997</td>\n",
       "      <td>77.309998</td>\n",
       "      <td>15.1670</td>\n",
       "      <td>1.475492</td>\n",
       "    </tr>\n",
       "    <tr>\n",
       "      <th>3</th>\n",
       "      <td>1/7/2008</td>\n",
       "      <td>1416.180054</td>\n",
       "      <td>84.769997</td>\n",
       "      <td>75.500000</td>\n",
       "      <td>15.0530</td>\n",
       "      <td>1.468299</td>\n",
       "    </tr>\n",
       "    <tr>\n",
       "      <th>4</th>\n",
       "      <td>1/8/2008</td>\n",
       "      <td>1390.189941</td>\n",
       "      <td>86.779999</td>\n",
       "      <td>76.059998</td>\n",
       "      <td>15.5900</td>\n",
       "      <td>1.557099</td>\n",
       "    </tr>\n",
       "    <tr>\n",
       "      <th>...</th>\n",
       "      <td>...</td>\n",
       "      <td>...</td>\n",
       "      <td>...</td>\n",
       "      <td>...</td>\n",
       "      <td>...</td>\n",
       "      <td>...</td>\n",
       "    </tr>\n",
       "    <tr>\n",
       "      <th>2285</th>\n",
       "      <td>5/8/2018</td>\n",
       "      <td>2671.919922</td>\n",
       "      <td>124.589996</td>\n",
       "      <td>14.060000</td>\n",
       "      <td>15.5100</td>\n",
       "      <td>1.186789</td>\n",
       "    </tr>\n",
       "    <tr>\n",
       "      <th>2286</th>\n",
       "      <td>5/9/2018</td>\n",
       "      <td>2697.790039</td>\n",
       "      <td>124.330002</td>\n",
       "      <td>14.370000</td>\n",
       "      <td>15.5300</td>\n",
       "      <td>1.184722</td>\n",
       "    </tr>\n",
       "    <tr>\n",
       "      <th>2287</th>\n",
       "      <td>5/10/2018</td>\n",
       "      <td>2723.070068</td>\n",
       "      <td>125.180000</td>\n",
       "      <td>14.410000</td>\n",
       "      <td>15.7400</td>\n",
       "      <td>1.191753</td>\n",
       "    </tr>\n",
       "    <tr>\n",
       "      <th>2288</th>\n",
       "      <td>5/14/2018</td>\n",
       "      <td>2730.129883</td>\n",
       "      <td>124.489998</td>\n",
       "      <td>14.380000</td>\n",
       "      <td>15.5600</td>\n",
       "      <td>1.193118</td>\n",
       "    </tr>\n",
       "    <tr>\n",
       "      <th>2289</th>\n",
       "      <td>5/16/2018</td>\n",
       "      <td>2725.780029</td>\n",
       "      <td>122.543800</td>\n",
       "      <td>14.405800</td>\n",
       "      <td>15.4542</td>\n",
       "      <td>1.182033</td>\n",
       "    </tr>\n",
       "  </tbody>\n",
       "</table></div>"
      ],
      "text/plain": [
       "           Date          SPX         GLD        USO      SLV   EUR/USD\n",
       "0      1/2/2008  1447.160034   84.860001  78.470001  15.1800  1.471692\n",
       "1      1/3/2008  1447.160034   85.570000  78.370003  15.2850  1.474491\n",
       "2      1/4/2008  1411.630005   85.129997  77.309998  15.1670  1.475492\n",
       "3      1/7/2008  1416.180054   84.769997  75.500000  15.0530  1.468299\n",
       "4      1/8/2008  1390.189941   86.779999  76.059998  15.5900  1.557099\n",
       "...         ...          ...         ...        ...      ...       ...\n",
       "2285   5/8/2018  2671.919922  124.589996  14.060000  15.5100  1.186789\n",
       "2286   5/9/2018  2697.790039  124.330002  14.370000  15.5300  1.184722\n",
       "2287  5/10/2018  2723.070068  125.180000  14.410000  15.7400  1.191753\n",
       "2288  5/14/2018  2730.129883  124.489998  14.380000  15.5600  1.193118\n",
       "2289  5/16/2018  2725.780029  122.543800  14.405800  15.4542  1.182033\n",
       "\n",
       "[2290 rows x 6 columns]"
      ]
     },
     "execution_count": 2,
     "metadata": {},
     "output_type": "execute_result"
    }
   ],
   "source": [
    "gold_data = pd.read_csv('gld_price_data.csv')\n",
    "gold_data"
   ]
  },
  {
   "cell_type": "code",
   "execution_count": 3,
   "id": "cd7b401c",
   "metadata": {},
   "outputs": [
    {
     "data": {
      "text/plain": [
       "(2290, 6)"
      ]
     },
     "execution_count": 3,
     "metadata": {},
     "output_type": "execute_result"
    }
   ],
   "source": [
    "gold_data.shape"
   ]
  },
  {
   "cell_type": "code",
   "execution_count": 5,
   "id": "1c6d40b2",
   "metadata": {},
   "outputs": [
    {
     "data": {
      "text/html": [
       "<div><div id=eabb5938-21db-4ca7-91bd-4e9fc24ce25e style=\"display:none; background-color:#9D6CFF; color:white; width:200px; height:30px; padding-left:5px; border-radius:4px; flex-direction:row; justify-content:space-around; align-items:center;\" onmouseover=\"this.style.backgroundColor='#BA9BF8'\" onmouseout=\"this.style.backgroundColor='#9D6CFF'\" onclick=\"window.commands?.execute('create-mitosheet-from-dataframe-output');\">See Full Dataframe in Mito</div> <script> if (window.commands.hasCommand('create-mitosheet-from-dataframe-output')) document.getElementById('eabb5938-21db-4ca7-91bd-4e9fc24ce25e').style.display = 'flex' </script> <table border=\"1\" class=\"dataframe\">\n",
       "  <thead>\n",
       "    <tr style=\"text-align: right;\">\n",
       "      <th></th>\n",
       "      <th>SPX</th>\n",
       "      <th>GLD</th>\n",
       "      <th>USO</th>\n",
       "      <th>SLV</th>\n",
       "      <th>EUR/USD</th>\n",
       "    </tr>\n",
       "  </thead>\n",
       "  <tbody>\n",
       "    <tr>\n",
       "      <th>count</th>\n",
       "      <td>2290.000000</td>\n",
       "      <td>2290.000000</td>\n",
       "      <td>2290.000000</td>\n",
       "      <td>2290.000000</td>\n",
       "      <td>2290.000000</td>\n",
       "    </tr>\n",
       "    <tr>\n",
       "      <th>mean</th>\n",
       "      <td>1654.315776</td>\n",
       "      <td>122.732875</td>\n",
       "      <td>31.842221</td>\n",
       "      <td>20.084997</td>\n",
       "      <td>1.283653</td>\n",
       "    </tr>\n",
       "    <tr>\n",
       "      <th>std</th>\n",
       "      <td>519.111540</td>\n",
       "      <td>23.283346</td>\n",
       "      <td>19.523517</td>\n",
       "      <td>7.092566</td>\n",
       "      <td>0.131547</td>\n",
       "    </tr>\n",
       "    <tr>\n",
       "      <th>min</th>\n",
       "      <td>676.530029</td>\n",
       "      <td>70.000000</td>\n",
       "      <td>7.960000</td>\n",
       "      <td>8.850000</td>\n",
       "      <td>1.039047</td>\n",
       "    </tr>\n",
       "    <tr>\n",
       "      <th>25%</th>\n",
       "      <td>1239.874969</td>\n",
       "      <td>109.725000</td>\n",
       "      <td>14.380000</td>\n",
       "      <td>15.570000</td>\n",
       "      <td>1.171313</td>\n",
       "    </tr>\n",
       "    <tr>\n",
       "      <th>50%</th>\n",
       "      <td>1551.434998</td>\n",
       "      <td>120.580002</td>\n",
       "      <td>33.869999</td>\n",
       "      <td>17.268500</td>\n",
       "      <td>1.303297</td>\n",
       "    </tr>\n",
       "    <tr>\n",
       "      <th>75%</th>\n",
       "      <td>2073.010070</td>\n",
       "      <td>132.840004</td>\n",
       "      <td>37.827501</td>\n",
       "      <td>22.882500</td>\n",
       "      <td>1.369971</td>\n",
       "    </tr>\n",
       "    <tr>\n",
       "      <th>max</th>\n",
       "      <td>2872.870117</td>\n",
       "      <td>184.589996</td>\n",
       "      <td>117.480003</td>\n",
       "      <td>47.259998</td>\n",
       "      <td>1.598798</td>\n",
       "    </tr>\n",
       "  </tbody>\n",
       "</table></div>"
      ],
      "text/plain": [
       "               SPX          GLD          USO          SLV      EUR/USD\n",
       "count  2290.000000  2290.000000  2290.000000  2290.000000  2290.000000\n",
       "mean   1654.315776   122.732875    31.842221    20.084997     1.283653\n",
       "std     519.111540    23.283346    19.523517     7.092566     0.131547\n",
       "min     676.530029    70.000000     7.960000     8.850000     1.039047\n",
       "25%    1239.874969   109.725000    14.380000    15.570000     1.171313\n",
       "50%    1551.434998   120.580002    33.869999    17.268500     1.303297\n",
       "75%    2073.010070   132.840004    37.827501    22.882500     1.369971\n",
       "max    2872.870117   184.589996   117.480003    47.259998     1.598798"
      ]
     },
     "execution_count": 5,
     "metadata": {},
     "output_type": "execute_result"
    }
   ],
   "source": [
    "gold_data.describe()"
   ]
  },
  {
   "cell_type": "code",
   "execution_count": 6,
   "id": "73918033",
   "metadata": {},
   "outputs": [
    {
     "name": "stdout",
     "output_type": "stream",
     "text": [
      "<class 'pandas.core.frame.DataFrame'>\n",
      "RangeIndex: 2290 entries, 0 to 2289\n",
      "Data columns (total 6 columns):\n",
      " #   Column   Non-Null Count  Dtype  \n",
      "---  ------   --------------  -----  \n",
      " 0   Date     2290 non-null   object \n",
      " 1   SPX      2290 non-null   float64\n",
      " 2   GLD      2290 non-null   float64\n",
      " 3   USO      2290 non-null   float64\n",
      " 4   SLV      2290 non-null   float64\n",
      " 5   EUR/USD  2290 non-null   float64\n",
      "dtypes: float64(5), object(1)\n",
      "memory usage: 107.5+ KB\n"
     ]
    }
   ],
   "source": [
    "gold_data.info()"
   ]
  },
  {
   "cell_type": "code",
   "execution_count": 7,
   "id": "3f273183",
   "metadata": {},
   "outputs": [
    {
     "data": {
      "text/plain": [
       "Date       0\n",
       "SPX        0\n",
       "GLD        0\n",
       "USO        0\n",
       "SLV        0\n",
       "EUR/USD    0\n",
       "dtype: int64"
      ]
     },
     "execution_count": 7,
     "metadata": {},
     "output_type": "execute_result"
    }
   ],
   "source": [
    "gold_data.isnull().sum()"
   ]
  },
  {
   "cell_type": "code",
   "execution_count": 14,
   "id": "24a7134d",
   "metadata": {},
   "outputs": [
    {
     "ename": "TypeError",
     "evalue": "'DataFrame' object is not callable",
     "output_type": "error",
     "traceback": [
      "\u001b[1;31m---------------------------------------------------------------------------\u001b[0m",
      "\u001b[1;31mTypeError\u001b[0m                                 Traceback (most recent call last)",
      "\u001b[1;32m~\\AppData\\Local\\Temp/ipykernel_15044/1129427090.py\u001b[0m in \u001b[0;36m<module>\u001b[1;34m\u001b[0m\n\u001b[0;32m      1\u001b[0m \u001b[0mcorrelation\u001b[0m \u001b[1;33m=\u001b[0m \u001b[0mgold_data\u001b[0m\u001b[1;33m.\u001b[0m\u001b[0mcorr\u001b[0m\u001b[1;33m(\u001b[0m\u001b[1;33m)\u001b[0m\u001b[1;33m\u001b[0m\u001b[1;33m\u001b[0m\u001b[0m\n\u001b[1;32m----> 2\u001b[1;33m \u001b[0mcorrelation\u001b[0m\u001b[1;33m(\u001b[0m\u001b[1;33m)\u001b[0m\u001b[1;33m\u001b[0m\u001b[1;33m\u001b[0m\u001b[0m\n\u001b[0m",
      "\u001b[1;31mTypeError\u001b[0m: 'DataFrame' object is not callable"
     ]
    }
   ],
   "source": [
    "correlation = gold_data.corr()\n",
    "correlation()"
   ]
  },
  {
   "cell_type": "code",
   "execution_count": 17,
   "id": "0a1421d2",
   "metadata": {},
   "outputs": [
    {
     "data": {
      "image/png": "[encoded data removed]",
      "text/plain": [
       "<Figure size 576x576 with 2 Axes>"
      ]
     },
     "metadata": {
      "needs_background": "light"
     },
     "output_type": "display_data"
    }
   ],
   "source": [
    "plt.figure(figsize = (8,8))\n",
    "sns.heatmap(correlation, cbar=True, square=True, fmt='.2f', annot=True, annot_kws={'size':10},cmap='Blues');"
   ]
  },
  {
   "cell_type": "code",
   "execution_count": 18,
   "id": "62a97f6f",
   "metadata": {},
   "outputs": [
    {
     "name": "stdout",
     "output_type": "stream",
     "text": [
      "SPX        0.049345\n",
      "GLD        1.000000\n",
      "USO       -0.186360\n",
      "SLV        0.866632\n",
      "EUR/USD   -0.024375\n",
      "Name: GLD, dtype: float64\n"
     ]
    }
   ],
   "source": [
    "print(correlation['GLD'])"
   ]
  },
  {
   "cell_type": "code",
   "execution_count": 20,
   "id": "d09404b9",
   "metadata": {},
   "outputs": [
    {
     "name": "stderr",
     "output_type": "stream",
     "text": [
      "C:\\Users\\mehak\\AppData\\Local\\Programs\\Python\\Python310\\lib\\site-packages\\seaborn\\distributions.py:2619: FutureWarning: `distplot` is a deprecated function and will be removed in a future version. Please adapt your code to use either `displot` (a figure-level function with similar flexibility) or `histplot` (an axes-level function for histograms).\n",
      "  warnings.warn(msg, FutureWarning)\n"
     ]
    },
    {
     "data": {
      "image/png": "[encoded data removed]",
      "text/plain": [
       "<Figure size 432x288 with 1 Axes>"
      ]
     },
     "metadata": {
      "needs_background": "light"
     },
     "output_type": "display_data"
    }
   ],
   "source": [
    "sns.distplot(gold_data['GLD'],color='green');"
   ]
  },
  {
   "cell_type": "code",
   "execution_count": 21,
   "id": "b8f751fa",
   "metadata": {},
   "outputs": [],
   "source": [
    "#splitting the features and target\n",
    "X = gold_data.drop(['Date','GLD'],axis=1)\n",
    "Y = gold_data['GLD']"
   ]
  },
  {
   "cell_type": "code",
   "execution_count": 23,
   "id": "b1268d9e",
   "metadata": {},
   "outputs": [
    {
     "name": "stdout",
     "output_type": "stream",
     "text": [
      "0        84.860001\n",
      "1        85.570000\n",
      "2        85.129997\n",
      "3        84.769997\n",
      "4        86.779999\n",
      "           ...    \n",
      "2285    124.589996\n",
      "2286    124.330002\n",
      "2287    125.180000\n",
      "2288    124.489998\n",
      "2289    122.543800\n",
      "Name: GLD, Length: 2290, dtype: float64\n"
     ]
    }
   ],
   "source": [
    "print(Y)"
   ]
  },
  {
   "cell_type": "code",
   "execution_count": 24,
   "id": "79b6c36f",
   "metadata": {},
   "outputs": [],
   "source": [
    "X_train,X_test,Y_train,Y_test = train_test_split(X,Y, test_size=0.2,random_state=2)"
   ]
  },
  {
   "cell_type": "code",
   "execution_count": 25,
   "id": "7f0978fc",
   "metadata": {},
   "outputs": [],
   "source": [
    "#model training\n",
    "regressor = RandomForestRegressor(n_estimators=100)"
   ]
  },
  {
   "cell_type": "code",
   "execution_count": 26,
   "id": "6cf9bdd0",
   "metadata": {},
   "outputs": [
    {
     "data": {
      "text/plain": [
       "RandomForestRegressor()"
      ]
     },
     "execution_count": 26,
     "metadata": {},
     "output_type": "execute_result"
    }
   ],
   "source": [
    "#training the model\n",
    "regressor.fit(X_train,Y_train)"
   ]
  },
  {
   "cell_type": "code",
   "execution_count": 31,
   "id": "e2bae09b",
   "metadata": {},
   "outputs": [],
   "source": [
    "#model evaluation\n",
    "test_data_prediction = regressor.predict(X_test)"
   ]
  },
  {
   "cell_type": "code",
   "execution_count": 32,
   "id": "c0c59297",
   "metadata": {},
   "outputs": [
    {
     "name": "stdout",
     "output_type": "stream",
     "text": [
      "[168.06239931  81.80119986 115.89290028 127.7852004  120.84900151\n",
      " 154.76969767 150.28279783 126.20520026 117.4397989  125.99880064\n",
      " 116.47090103 171.59030106 142.05799902 168.01629879 115.02150044\n",
      " 117.38460055 138.88890335 170.24750114 159.64150364 161.4708001\n",
      " 154.80050072 125.4982003  175.83259991 156.71600313 125.22700031\n",
      "  93.8393997   77.23490014 120.37560006 119.02649899 167.44929945\n",
      "  88.28360062 125.26739973  91.09390083 117.59660033 121.19199898\n",
      " 136.12810094 115.86950132 115.59880081 146.05269945 107.22600104\n",
      " 104.59700246  87.15129782 126.60890028 117.79600039 153.54279874\n",
      " 119.60909976 108.4267996  107.99409782  93.30020064 127.03499821\n",
      "  75.10490023 113.55329923 121.3484001  111.16859911 119.01719896\n",
      " 120.69159942 158.55380029 167.50990156 147.08109724  85.93319872\n",
      "  94.39980024  86.67609884  90.6041     118.9416008  126.49110057\n",
      " 127.51200005 169.83249982 122.28249929 117.52309909  98.26150032\n",
      " 168.54460131 143.05209782 131.87890235 121.3033024  120.60999949\n",
      " 119.77870055 114.45230148 118.19040039 107.07660103 127.98500053\n",
      " 113.78359987 106.82719988 116.63210056 119.75899856  89.08100098\n",
      "  88.24679849 146.92000167 127.22069974 113.13200056 109.97789855\n",
      " 108.06019892  77.4313988  169.57660214 114.12469917 121.62839907\n",
      " 127.86910205 154.95389861  91.75839966 135.07220107 158.91700329\n",
      " 125.52180022 125.04910082 130.63920258 114.89790086 119.83719989\n",
      "  92.02409993 110.0322991  166.19129909 157.39129865 114.19989956\n",
      " 106.4525016   79.08689991 113.23460042 125.86210081 107.25629921\n",
      " 119.21750106 155.74280392 159.53039991 120.46320002 134.54190256\n",
      " 101.53549975 117.653998   119.23240023 112.93520076 102.81379908\n",
      " 160.19889767  98.6555004  149.71940026 125.40740104 169.49299957\n",
      " 125.44269915 127.46029695 127.22870119 113.75509942 112.7991007\n",
      " 123.57999883 102.33399909  89.41380012 124.38749962 101.54519902\n",
      " 107.27699888 113.71560081 117.27630081  99.15099928 121.73220048\n",
      " 163.07559925  87.23219879 106.70580002 117.23860053 127.69790096\n",
      " 124.18200052  80.7715996  120.10060094 156.71879892  88.08729972\n",
      " 110.36809929 118.99219903 171.89309882 102.97449901 105.54210026\n",
      " 122.6990003  157.75839801  87.44119819  93.3000006  112.53400037\n",
      " 177.2073998  114.62069984 119.27010028  94.79600079 125.86860043\n",
      " 166.07810205 114.93020052 116.77280131  88.33019856 148.57350049\n",
      " 120.39229925  89.51129982 112.12629969 117.69570047 118.91210118\n",
      "  87.89609954  94.3333001  117.12719999 118.65150181 120.58410075\n",
      " 126.68209863 121.79910003 150.02030062 165.42330121 118.63999955\n",
      " 120.23470141 150.28090125 118.21009969 172.48959842 105.03129924\n",
      " 104.94470101 149.198401   113.92420088 124.8453008  147.50019943\n",
      " 119.71820088 115.47540046 112.61369965 113.42150179 141.79370159\n",
      " 117.70039787 102.97080058 116.0150013  104.01650175  98.51780038\n",
      " 117.40860087  90.59500008  91.68510076 153.44809972 102.72009991\n",
      " 155.01880072 114.37810163 138.81940128  90.13639829 115.44539959\n",
      " 114.17559958 123.14019965 121.58730024 165.45410138  92.93679955\n",
      " 134.99590169 121.33469915 120.77240056 104.77650011 141.03120288\n",
      " 121.76579904 116.61240051 113.46020068 127.00279763 122.81399945\n",
      " 125.85399936 121.19020059  86.87299947 132.53810209 145.60560182\n",
      "  92.62649955 158.46790032 158.5474021  126.21119931 164.79379988\n",
      " 108.7263995  109.75710097 103.68559826  93.99370045 127.61230271\n",
      " 107.05050091 161.15970031 121.73760038 131.85480049 130.61830217\n",
      " 159.69199948  90.16099847 175.96920142 127.74259975 126.74599889\n",
      "  86.36609933 124.52199946 150.73929772  89.71320001 106.97109997\n",
      " 109.02930006  83.80879908 136.38970025 154.76060242 138.78490298\n",
      "  74.36500019 152.27690218 126.12700025 126.7553002  127.48529905\n",
      " 108.77239964 156.47790079 114.56260096 117.08600153 125.44579905\n",
      " 154.12440133 121.45659994 156.41789847  93.01360077 125.53930143\n",
      " 125.23290038  87.64180031  92.34149913 126.25509912 128.17460311\n",
      " 113.11530035 117.48099749 120.93040013 126.96569852 119.65100101\n",
      " 136.40440108  93.93249929 119.85100019 113.07480098  94.42219962\n",
      " 108.86789971  87.15749933 108.60140002  89.66649985  92.56330042\n",
      " 131.80760268 162.44810051  89.28559984 119.69260069 133.48960134\n",
      " 123.82269996 128.30460211 101.94009833  89.08889887 131.27460096\n",
      " 119.45040051 108.68069999 167.15800142 115.18320056  86.68759882\n",
      " 118.98780067  91.04199947 161.60070011 116.60810062 121.69650005\n",
      " 160.20339836 120.14889941 112.73599955 108.46579845 126.60449981\n",
      "  75.99220021 103.05299982 127.66790286 121.85959901  92.61309993\n",
      " 131.99420045 117.88330133 115.91369987 154.54000236 160.36510122\n",
      " 109.96619983 154.07629859 119.40360112 160.30350079 118.44690015\n",
      " 157.58639962 115.1355994  116.41170033 149.66979905 114.86400053\n",
      " 126.19989887 166.04559889 117.63579984 125.27399941 153.33490298\n",
      " 153.57810223 132.05870088 114.87820041 121.33850185 125.05660111\n",
      "  89.78190062 122.72060011 154.8640027  111.70180049 106.67499993\n",
      " 161.34260044 118.48379985 165.67179958 134.07170093 115.01370006\n",
      " 153.06659942 168.48629974 114.4669003  114.18900129 157.28459859\n",
      "  85.14609891 127.16490027 127.9404006  128.96479971 124.28840062\n",
      " 123.75650052  90.7094005  153.12559979  97.21489985 137.63010027\n",
      "  89.19619933 106.85900003 115.1211007  112.68290106 124.28679923\n",
      "  91.5035984  125.47540146 162.44459885 119.77339903 164.91400082\n",
      " 126.6409986  112.36710032 127.65119962  94.75509871  91.03170004\n",
      " 102.57719903 120.88879977  83.17649947 126.33619966 160.23530452\n",
      " 117.15970071 118.33949987 119.83729996 122.95449968 119.9466015\n",
      " 121.51079964 118.08230035 106.97140026 148.14889977 126.11519919\n",
      " 115.68970096  74.24119996 127.85790108 153.7124009  121.93699985\n",
      " 125.57560047  88.88640011 102.90689864 124.63460047 120.39099993\n",
      "  73.29790078 152.21559996 121.28590034 104.73599982  86.4448975\n",
      " 115.27179866 172.18509846 119.67010059 159.49359819 113.21879965\n",
      " 121.44520051 118.19700119  95.9897999  118.74280009 125.78300045\n",
      " 118.34039944  96.13220067 153.46210133 122.03140015 147.66569972\n",
      " 159.08430245 114.20789991 122.56379939 149.67049867 127.51330038\n",
      " 166.05950031 135.90619997 120.1118001  167.07929889 108.331799\n",
      " 121.42969874 138.64340139 106.921499  ]\n"
     ]
    }
   ],
   "source": [
    "print(test_data_prediction)"
   ]
  },
  {
   "cell_type": "code",
   "execution_count": 33,
   "id": "8709ca90",
   "metadata": {},
   "outputs": [
    {
     "name": "stdout",
     "output_type": "stream",
     "text": [
      "R squared error:  0.9899748723545927\n"
     ]
    }
   ],
   "source": [
    "#r squared error\n",
    "error_score = metrics.r2_score(Y_test,test_data_prediction)\n",
    "print(\"R squared error: \", error_score)"
   ]
  },
  {
   "cell_type": "markdown",
   "id": "f9c5a6e8",
   "metadata": {},
   "source": [
    "# compare the actual values and predicted"
   ]
  },
  {
   "cell_type": "code",
   "execution_count": 34,
   "id": "dae4f569",
   "metadata": {},
   "outputs": [],
   "source": [
    "Y_test= list(Y_test)"
   ]
  },
  {
   "cell_type": "code",
   "execution_count": 35,
   "id": "be358848",
   "metadata": {},
   "outputs": [
    {
     "data": {
      "image/png": "[encoded data removed]",
      "text/plain": [
       "<Figure size 432x288 with 1 Axes>"
      ]
     },
     "metadata": {
      "needs_background": "light"
     },
     "output_type": "display_data"
    }
   ],
   "source": [
    "plt.plot(Y_test, color='blue', label='Actual Values')\n",
    "plt.plot(test_data_prediction, color='green', label='Predicted Values')\n",
    "plt.title('Actual Price vs Predicted Price')\n",
    "plt.xlabel('Number of Values')\n",
    "plt.ylabel('Gold Price')\n",
    "plt.legend()\n",
    "plt.show();"
   ]
  },
  {
   "cell_type": "code",
   "execution_count": null,
   "id": "8bc28190",
   "metadata": {},
   "outputs": [],
   "source": []
  }
 ],
 "metadata": {
  "kernelspec": {
   "display_name": "Python 3 (ipykernel)",
   "language": "python",
   "name": "python3"
  },
  "language_info": {
   "codemirror_mode": {
    "name": "ipython",
    "version": 3
   },
   "file_extension": ".py",
   "mimetype": "text/x-python",
   "name": "python",
   "nbconvert_exporter": "python",
   "pygments_lexer": "ipython3",
   "version": "3.10.1"
  }
 },
 "nbformat": 4,
 "nbformat_minor": 5
}
